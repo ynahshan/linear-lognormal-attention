{
 "cells": [
  {
   "cell_type": "code",
   "execution_count": 4,
   "id": "e6cae83f",
   "metadata": {
    "ExecuteTime": {
     "end_time": "2024-01-25T16:44:43.508087597Z",
     "start_time": "2024-01-25T16:44:43.463202284Z"
    }
   },
   "outputs": [],
   "source": [
    "import torch\n",
    "from lln.lln_attention import LLNPlusDiagAttention"
   ]
  },
  {
   "cell_type": "code",
   "execution_count": 32,
   "id": "7977264b",
   "metadata": {},
   "outputs": [
    {
     "data": {
      "text/plain": [
       "tensor([[[[ 0.5032,  0.5248, -0.1797],\n",
       "          [ 0.6414,  0.4807, -0.0756],\n",
       "          [ 0.4694,  0.5255, -0.2264],\n",
       "          [ 1.0657,  0.3068,  0.3656]],\n",
       "\n",
       "         [[-0.7917, -1.0734, -0.5935],\n",
       "          [-0.7895, -1.1420, -0.6682],\n",
       "          [-0.7662, -0.2344, -0.5392],\n",
       "          [-0.4690, -0.7762, -0.9950]]]])"
      ]
     },
     "execution_count": 32,
     "metadata": {},
     "output_type": "execute_result"
    }
   ],
   "source": [
    "torch.manual_seed(0)\n",
    "\n",
    "q = torch.randn(1, 2, 4, 3)\n",
    "k = torch.randn(1, 2, 4, 3)\n",
    "v = torch.randn(1, 2, 4, 3)\n",
    "lin_attn = LLNPlusDiagAttention(size_per_head=4, num_heads=1)\n",
    "lin_attn(q, k, v)"
   ]
  },
  {
   "cell_type": "code",
   "execution_count": 35,
   "id": "a6a5f468",
   "metadata": {},
   "outputs": [
    {
     "data": {
      "text/plain": [
       "tensor([[[[-0.0933,  0.6871, -0.8383],\n",
       "          [-0.0615,  0.7395, -0.6900],\n",
       "          [ 0.1475,  0.6462, -0.5867],\n",
       "          [ 1.0657,  0.3068,  0.3656]],\n",
       "\n",
       "         [[-0.8025, -1.2952, -0.7502],\n",
       "          [-0.8238, -1.2323, -0.7327],\n",
       "          [-0.9951, -0.3673, -0.3389],\n",
       "          [-0.4690, -0.7762, -0.9950]]]])"
      ]
     },
     "execution_count": 35,
     "metadata": {},
     "output_type": "execute_result"
    }
   ],
   "source": [
    "mask = torch.tril(torch.ones(1, 1, 4, 4)).type(torch.bool)\n",
    "lin_attn(q, k, v, mask)"
   ]
  }
 ],
 "metadata": {
  "kernelspec": {
   "display_name": "yenv",
   "language": "python",
   "name": "yenv"
  },
  "language_info": {
   "codemirror_mode": {
    "name": "ipython",
    "version": 3
   },
   "file_extension": ".py",
   "mimetype": "text/x-python",
   "name": "python",
   "nbconvert_exporter": "python",
   "pygments_lexer": "ipython3",
   "version": "3.9.5"
  }
 },
 "nbformat": 4,
 "nbformat_minor": 5
}
